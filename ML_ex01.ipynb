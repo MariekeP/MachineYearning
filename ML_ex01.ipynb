{
 "cells": [
  {
   "cell_type": "markdown",
   "metadata": {},
   "source": [
    "Osnabrück University - Machine Learning (Summer Term 2016) - Prof. Dr.-Ing. G. Heidemann, Ulf Krumnack"
   ]
  },
  {
   "cell_type": "markdown",
   "metadata": {},
   "source": [
    "# Exercise Sheet 01: Concept Learning"
   ]
  },
  {
   "cell_type": "markdown",
   "metadata": {},
   "source": [
    "**IMPORTANT NOTE:** The provided PDF only contains information on how to get Jupyter to run. You will need it to open the `*.ipynb` file which contains the rest (also the important part) of the sheet. [Assignment 0](#Assignment-0:-Setup-your-homework-environment) will walk you through that process."
   ]
  },
  {
   "cell_type": "markdown",
   "metadata": {},
   "source": [
    "## Introduction\n",
    "\n",
    "This is a part of the first exercise sheet, you will find the rest in the `*.ipynb` file. The homework sheets will usually be available on Tuesdays and are supposed to be solved in groups of three. They have to be handed in before Monday morning of the following week. The exercises are then presented to your tutor in a small feedback session. To acquire the admission for the final exam, you will have to pass $N-2$ of the weekly provided exercise sheets.\n",
    "\n",
    "Sign up for a group on Stud.IP (See `Participants` -> `Functions/Groups`). The times mentioned there are the times for the feedback session of your group. If none of them fits, send any of the tutors an e-mail so we can try to arrange something. \n",
    "\n",
    "Your group will have a group folder in Stud.IP under `Documents`. Upload your solutions there to hand them in.\n",
    "\n",
    "All exercise sheets will use [Jupyter Notebooks](http://jupyter-notebook.readthedocs.org/en/latest/notebook.html). To be able to run these on your system, you will need to install Python and a few packages. We suggest you to use the latest version of Python 3. In case you are not familiar with it, follow the directives below ([Assignment 0a)](#a%29-Install-Python)) to get it up and running. [Assignment 0b)](#b%29-Run-Jupyter-Notebooks) on this sheet will provide details on how to run the notebooks with Jupyter.\n",
    "\n",
    "We will offer an open help session if you need help with installing and getting things to run: On **Thursday, April 14, 2016 between 12:30 and 16:00** you will find some tutors in **93/E42** who try to help you."
   ]
  },
  {
   "cell_type": "markdown",
   "metadata": {},
   "source": [
    "## Assignment 0: Setup your homework environment\n",
    "\n",
    "### a) Install Python\n",
    "\n",
    "To be able to run Jupyter Notebooks you will need Python. Follow this exercise to get everything up and running.\n",
    "\n",
    "#### UNIX (e.g. Ubuntu)\n",
    "\n",
    "The following commands will install Python and the components required to build some of the packages we will use.\n",
    "\n",
    "```sh\n",
    "sudo apt-get install build-essential python3-dev python3\n",
    "pip3 install --upgrade pip\n",
    "pip3 install jupyter numpy matplotlib\n",
    "```\n",
    "\n",
    "#### MacOS\n",
    "\n",
    "We recommend using homebrew to install Python.\n",
    "\n",
    "```sh\n",
    "ruby -e \"$(curl -fsSL https://raw.githubusercontent.com/Homebrew/install/master/install)\"\n",
    "brew install python3\n",
    "pip3 install --upgrade pip\n",
    "pip3 install jupyter numpy matplotlib\n",
    "```\n",
    "\n",
    "#### Windows\n",
    "\n",
    "Go to [https://www.python.org/downloads/windows/](https://www.python.org/downloads/windows/) and download the _Latest Python 3 Release_. Install it and make sure that _Add to PATH_ is checked during the installation.\n",
    "\n",
    "Open your command line (`START` → `cmd.exe`). Type the following commands:\n",
    "\n",
    "```sh\n",
    "pip install --upgrade pip\n",
    "pip install jupyter numpy matplotlib\n",
    "```\n",
    "\n",
    "If some of those installations fail, check if `pip` produces output. Otherwise `'pip' is not recognized as an internal or external command, operable program or batch file.`. If that is the case, rerun the installation and check \"Add to PATH\" or try restarting your computer. In the other cases it might be you have problems with compiling the packages. Try to find them on [http://www.lfd.uci.edu/~gohlke/pythonlibs/](http://www.lfd.uci.edu/~gohlke/pythonlibs/), download them and install them with: \n",
    "\n",
    "```sh\n",
    "pip install *.whl\n",
    "```\n"
   ]
  },
  {
   "cell_type": "markdown",
   "metadata": {
    "collapsed": true
   },
   "source": [
    "### b) Run Jupyter Notebooks\n",
    "\n",
    "After you installed Python and Jupyter verify you are able to run the notebook server by opening your command line, navigate to the directory where you downloaded the `sheet01.ipynb` to, e.g. `~/university/ML2016` or `C:\\Users\\Documents\\University\\ML2016` and run jupyter in that directory.\n",
    "\n",
    "```sh\n",
    "cd ~/university/ML2016\n",
    "jupyter notebook\n",
    "```\n",
    "\n",
    "Usually a browser window should open up. If not, open your favorite webbrowser and navigate to [localhost:8888/tree](localhost:8888/tree). (In some browsers there is a small display bug with $\\LaTeX$ output: After each equation there will be a trailing `|`. Affected is e.g. Google Chrome.)\n",
    "\n",
    "You will be presented with a list of files, choose `sheet01.ipynb`: You are good to go now and can start working on your homework right away!\n",
    "\n",
    "If you experience any troubles, remember to step by at the help session on Thursday, April 14, use the Stud.IP forum or send us an e-mail - we are always happy to help."
   ]
  },
  {
   "cell_type": "markdown",
   "metadata": {},
   "source": [
    "## Assignment 1: Candidate Elimination (by Hand) [6 Points]\n",
    "\n",
    "Candidate Elimination is a learning algorithm that, in each step, tries to generate a description which is consistent with all previously observed examples in a training set. That description could hypothetically then be used to classify examples outside the training set.\n",
    "\n",
    "Consider the following situation:\n",
    "\n",
    "Earl and Fran have made it their mission to visit as many amusement parks as possible in the coming summer term. However, to maximize their enjoyment and not have any unnecessary arguments break out, they make a list of previous park visits and if they would go there again, to have a few criteria to decide if a park is worth their time.\n",
    "\n",
    "This is the set of attributes along with their possible values Earl and Fran came up with:\n",
    "\n",
    "| Attribute           | driving distance | ticket price      | rollercoasters | dinosaurs |\n",
    "|---------------------|------------------|-------------------|----------------|-----------|\n",
    "| **Possible Values** | short / far      | cheap / expensive | many / none    | yes / no  |\n",
    "\n",
    "This is Earl and Fran's accumulated data from previous visits. The list will allow you to come to a learning decision which properties have to be fulfilled such that the two will enjoy a visit to an amusement park.\n",
    "\n",
    "| Sample No. | driving distance | ticket price | rollercoasters | dinosaurs | go again? |\n",
    "|------------|------------------|--------------|----------------|-----------|-----------|\n",
    "| 1          | far              | cheap        | many           | no        | yes       |\n",
    "| 2          | short            | expensive    | many           | no        | yes       |\n",
    "| 3          | far              | expensive    | none           | yes       | no        |\n",
    "| 4          | short            | cheap        | none           | yes       | no        |\n",
    "| 5          | short            | cheap        | many           | yes       | yes       |"
   ]
  },
  {
   "cell_type": "markdown",
   "metadata": {},
   "source": [
    "### a)\n",
    "\n",
    "Apply Candidate Elimination to the samples 1-5 below and provide the version space boundaries $S_n$ and $G_n$ after each new training sample.  "
   ]
  },
  {
   "cell_type": "markdown",
   "metadata": {},
   "source": [
    "$$G_0 = \\{<?,?,?,?>\\}$$\n",
    "$$S_0 = \\{<\\emptyset,\\emptyset,\\emptyset,\\emptyset>\\}$$\n",
    "\n",
    "$$G_1 = \\{<?,?,?,?>\\} $$\n",
    "$$S_1 = \\{<far,cheap,many,no>\\}$$\n",
    "\n",
    "$$G_2 = \\{<?,?,?,?>\\} $$\n",
    "$$S_2 = \\{<?,?,many,no>\\}$$\n",
    "\n",
    "$$G_3 = \\{<?,?,many,?> , <?,?,?,no>\\} $$\n",
    "$$S_3 = \\{<?,?,many,no>\\}$$\n",
    "\n",
    "$$G_4 = \\{<?,?,many,?> , <?,?,?,no>\\} $$\n",
    "$$S_4 = \\{<?,?,many,no>\\}$$\n",
    "\n",
    "$$G_5 = \\{<?,?,many,?>\\} $$\n",
    "$$S_5 = \\{<?,?,many,?>\\}$$"
   ]
  },
  {
   "cell_type": "markdown",
   "metadata": {},
   "source": [
    "### b)\n",
    "\n",
    "Provide the complete version space bounded by $S_2$ and $G_2$."
   ]
  },
  {
   "cell_type": "markdown",
   "metadata": {},
   "source": [
    "$$S_2 = \\{<?,?,many,no>\\}$$\n",
    "\n",
    "$$<?,?,many,?><?,?,?,no>$$\n",
    "\n",
    "$$G_2 = \\{<?,?,?,?>\\}$$"
   ]
  },
  {
   "cell_type": "markdown",
   "metadata": {},
   "source": [
    "### c)\n",
    "\n",
    "To what kind of amusement park should Earl and Fran go?"
   ]
  },
  {
   "cell_type": "markdown",
   "metadata": {},
   "source": [
    "They should go to a park with many Rollercoasters since the version space converged to only one solution:\n",
    "$$S_2 = \\{<?,?,many,?>\\}$$"
   ]
  },
  {
   "cell_type": "markdown",
   "metadata": {},
   "source": [
    "## Assignment 2: Candidate Elimination (in Python) [10 Points]\n",
    "\n",
    "In the following Python code there are four places marked with \n",
    "\n",
    "```python\n",
    "# TODO: ...\n",
    "``` \n",
    "\n",
    "where you have to add some code to make the Candidate Elimination work. Finish the code to automate the decision making for Earl and Fran."
   ]
  },
  {
   "cell_type": "code",
   "execution_count": 1,
   "metadata": {
    "collapsed": true
   },
   "outputs": [],
   "source": [
    "# maximally general hypothesis\n",
    "G = [('?', '?', '?', '?')]\n",
    "# maximally specific hypothesis\n",
    "S = [('0', '0', '0', '0')]\n",
    "\n",
    "# attribute values\n",
    "AV = (['short', 'far'], ['cheap', 'expensive'], ['many', 'none'], ['yes', 'no'])\n",
    "\n",
    "# samples\n",
    "D = [ \n",
    "    {'sample': ('far',   'cheap',     'many', 'no' ), 'positive': True },\n",
    "    {'sample': ('short', 'expensive', 'many', 'no' ), 'positive': True },\n",
    "    {'sample': ('far',   'expensive', 'none', 'yes'), 'positive': False},\n",
    "    {'sample': ('short', 'cheap',     'none', 'yes'), 'positive': False},\n",
    "    {'sample': ('short', 'cheap',     'many', 'yes'), 'positive': True }\n",
    "]"
   ]
  },
  {
   "cell_type": "code",
   "execution_count": 2,
   "metadata": {
    "collapsed": true
   },
   "outputs": [],
   "source": [
    "def consistent(hypothesis, sample):\n",
    "    \"\"\"\n",
    "    Checks if a general hypothesis is consistent with a sample.\n",
    "    \"\"\"\n",
    "    return all([hypothesis[i] == sample[i] or hypothesis[i] == '?' for i in range(len(hypothesis))])"
   ]
  },
  {
   "cell_type": "code",
   "execution_count": 3,
   "metadata": {
    "collapsed": false
   },
   "outputs": [],
   "source": [
    "def more_general(a, b):\n",
    "    \"\"\"\n",
    "    Checks if a is more general than b.\n",
    "    \"\"\"\n",
    "    # TODO: check if a is more general than b\n",
    "    return all([x==y or x=='?' for x,y in zip(a,b)])\n"
   ]
  },
  {
   "cell_type": "code",
   "execution_count": 4,
   "metadata": {
    "collapsed": true
   },
   "outputs": [],
   "source": [
    "def more_specific(a, b):\n",
    "    \"\"\"\n",
    "    Checks if a is more specific than b.\n",
    "    \"\"\"\n",
    "    # TODO: check if a is more specific than b\n",
    "    return all([x==y or y=='?' for x,y in zip(a,b)])"
   ]
  },
  {
   "cell_type": "code",
   "execution_count": 5,
   "metadata": {
    "collapsed": false
   },
   "outputs": [
    {
     "name": "stdout",
     "output_type": "stream",
     "text": [
      "Sample: + ('far', 'cheap', 'many', 'no')\n",
      "G: [('?', '?', '?', '?')]\n",
      "S: [('far', 'cheap', 'many', 'no')]\n",
      "\n",
      "Sample: + ('short', 'expensive', 'many', 'no')\n",
      "G: [('?', '?', '?', '?')]\n",
      "S: [('?', '?', 'many', 'no')]\n",
      "\n",
      "Sample: - ('far', 'expensive', 'none', 'yes')\n",
      "G: [('?', '?', 'many', '?'), ('?', '?', '?', 'no')]\n",
      "S: [('?', '?', 'many', 'no')]\n",
      "\n",
      "Sample: - ('short', 'cheap', 'none', 'yes')\n",
      "G: [('?', '?', 'many', '?'), ('?', '?', '?', 'no')]\n",
      "S: [('?', '?', 'many', 'no')]\n",
      "\n",
      "Sample: + ('short', 'cheap', 'many', 'yes')\n",
      "G: [('?', '?', 'many', '?')]\n",
      "S: [('?', '?', 'many', '?')]\n",
      "\n"
     ]
    }
   ],
   "source": [
    "for d in D:\n",
    "    if d['positive']:\n",
    "        G = [g for g in G if consistent(g, d['sample'])]\n",
    "        for s in S:\n",
    "            if not consistent(s, d['sample']):\n",
    "                S.remove(s)\n",
    "                \n",
    "                # Add to S all minimal generalizations h of s\n",
    "                # TODO: change h = ('?', '?', '?', '?') such that it assigns the minimal generalization h\n",
    "                differences = [x==y or y=='0' for x,y in zip(d['sample'],s)]\n",
    "                h = tuple([x if differences[i]==True else '?' for i,x in enumerate(d['sample'])])\n",
    "                \n",
    "                if consistent(h, d['sample']) and any([more_general(g, h) for g in G]):\n",
    "                    S.append(h)\n",
    "\n",
    "                # Remove from S any hypothesis that is more general than another hypothesis in S\n",
    "                for s2 in S:\n",
    "                    if any([more_general(s2, s3) and not s2 == s3 for s3 in S]):\n",
    "                        S.remove(s2)\n",
    "\n",
    "    else:\n",
    "        S = [s for s in S if not consistent(s, d['sample'])]\n",
    "        for g in G:\n",
    "            if consistent(g, d['sample']):\n",
    "                G.remove(g)\n",
    "                \n",
    "                # Add to G all minimal specializations h of g\n",
    "                for ai in range(len(AV)):\n",
    "                    if g[ai] == '?':\n",
    "                        h = list(g)\n",
    "                        h[ai] = AV[ai][1 - AV[ai].index(d['sample'][ai])]\n",
    "                        h = tuple(h)\n",
    "                        if not consistent(h, d['sample']) and any([more_specific(s, h) for s in S]):\n",
    "                            G.append(h)\n",
    "                \n",
    "                # Remove from G any hypothesis that is less general than another hypothesis in G\n",
    "                # TODO: remove the hypotheses as mentioned above:\n",
    "                for g2 in G:\n",
    "                    if any([more_specific(g2, g3) and not g2 == g3 for g3 in G]):\n",
    "                        G.remove(g2)\n",
    "                        \n",
    "\n",
    "    print('Sample: {} {}\\nG: {}\\nS: {}\\n'.format('+' if d['positive'] else '-', d['sample'], G, S))"
   ]
  },
  {
   "cell_type": "code",
   "execution_count": null,
   "metadata": {
    "collapsed": true
   },
   "outputs": [],
   "source": []
  },
  {
   "cell_type": "markdown",
   "metadata": {
    "collapsed": true
   },
   "source": [
    "## Assignment 3: Inductive Bias [4 Points]"
   ]
  },
  {
   "cell_type": "markdown",
   "metadata": {},
   "source": [
    "### a) \n",
    "\n",
    "What is an inductive bias? Describe in your own words!"
   ]
  },
  {
   "cell_type": "markdown",
   "metadata": {},
   "source": [
    "The assumptions a (programmer of a) machine learning algorithm has to make about the target function in order to generalize (training) data are called inductive bias. Inductive means that you assume a rule by generalizing already known facts. This is only possible if you set restrictions.\n",
    "A famous example for an inductive bias is \"Occams Razor\". It says: \"The simplest explanation for something is the best explanation\""
   ]
  },
  {
   "cell_type": "markdown",
   "metadata": {},
   "source": [
    "### b)\n",
    "\n",
    "Which of the learning algorithms you heard about in the lecture (Candidate Elimination and Find-S) has the stronger bias?"
   ]
  },
  {
   "cell_type": "markdown",
   "metadata": {},
   "source": [
    "The find-S algorithm has a stronger bias than the candidate elimination algorithm.\n",
    "The bias in the candidate elimination algorithm is that the target concept can be represented in its hypothesis space.\n",
    "The bias in the find-s algorithm is the same as in the candidate elimination algorithm plus the additional assumption  that all instances are negative unless unless demonstrated otherwise."
   ]
  }
 ],
 "metadata": {
  "kernelspec": {
   "display_name": "Python 2",
   "language": "python",
   "name": "python2"
  },
  "language_info": {
   "codemirror_mode": {
    "name": "ipython",
    "version": 2
   },
   "file_extension": ".py",
   "mimetype": "text/x-python",
   "name": "python",
   "nbconvert_exporter": "python",
   "pygments_lexer": "ipython2",
   "version": "2.7.11"
  }
 },
 "nbformat": 4,
 "nbformat_minor": 0
}
